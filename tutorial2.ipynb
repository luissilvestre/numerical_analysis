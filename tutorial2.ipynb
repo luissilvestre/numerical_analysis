{
 "cells": [
  {
   "cell_type": "markdown",
   "id": "df5344e2",
   "metadata": {},
   "source": [
    "# Using vectors and Matrices in Julia\n",
    "\n",
    "Julia has a very convenient Array type that we use for operations with vectors and matrices.\n",
    "\n",
    "As usual, I will show you several examples.\n",
    "\n",
    "## Initializing a matrix with zeros\n",
    "\n",
    "The easiest way to define a vector is arguably with the function `zeros`. The following gives us a 5-dimensional vector with a zero in every coordinate."
   ]
  },
  {
   "cell_type": "code",
   "execution_count": null,
   "id": "8babf42c",
   "metadata": {},
   "outputs": [],
   "source": [
    "a = zeros(5)"
   ]
  },
  {
   "cell_type": "markdown",
   "id": "02c633ad",
   "metadata": {},
   "source": [
    "We can access and modify some of the entries of $a$ by using brackets. That is, if we want $a_2 = 3.5$ and $a_4 = \\pi$, we write"
   ]
  },
  {
   "cell_type": "code",
   "execution_count": null,
   "id": "1e754b63",
   "metadata": {},
   "outputs": [],
   "source": [
    "a[2] = 3.5\n",
    "a[4] = pi\n",
    "a"
   ]
  },
  {
   "cell_type": "markdown",
   "id": "0d6719fd",
   "metadata": {},
   "source": [
    "If we use two parameters, we can use zeros to define a matrix. Let us see."
   ]
  },
  {
   "cell_type": "code",
   "execution_count": null,
   "id": "9ae63281",
   "metadata": {},
   "outputs": [],
   "source": [
    "M = zeros(5,5)"
   ]
  },
  {
   "cell_type": "markdown",
   "id": "bb60ffca",
   "metadata": {},
   "source": [
    "Let us change some of the numbers in M."
   ]
  },
  {
   "cell_type": "code",
   "execution_count": null,
   "id": "4bdeb87e",
   "metadata": {},
   "outputs": [],
   "source": [
    "M[1,1] = 1.\n",
    "M[2,1] = 2.\n",
    "M[3,3] = 3.2\n",
    "M[4,2] = sqrt(2)\n",
    "M"
   ]
  },
  {
   "cell_type": "markdown",
   "id": "2ec16dcb",
   "metadata": {},
   "source": [
    "We can also get extract a full row or column of a matrix using the colon `:`. For example, this is the second column of $M$."
   ]
  },
  {
   "cell_type": "code",
   "execution_count": null,
   "id": "7a945401",
   "metadata": {
    "scrolled": true
   },
   "outputs": [],
   "source": [
    "M[:,2]"
   ]
  },
  {
   "cell_type": "markdown",
   "id": "904e0c63",
   "metadata": {},
   "source": [
    "And this is its second row."
   ]
  },
  {
   "cell_type": "code",
   "execution_count": null,
   "id": "01e2f275",
   "metadata": {},
   "outputs": [],
   "source": [
    "M[2,:]"
   ]
  },
  {
   "cell_type": "markdown",
   "id": "fba1b89a",
   "metadata": {},
   "source": [
    "In Julia, we can write Matrix and vector arithmetics naturally, and it works. For example, we can add and multiply times a scalar, both to vectors and to matrices."
   ]
  },
  {
   "cell_type": "code",
   "execution_count": null,
   "id": "ec9eb940",
   "metadata": {},
   "outputs": [],
   "source": [
    "M + 3*M"
   ]
  },
  {
   "cell_type": "code",
   "execution_count": null,
   "id": "f801fd36",
   "metadata": {},
   "outputs": [],
   "source": [
    "2*a + a"
   ]
  },
  {
   "cell_type": "markdown",
   "id": "a67cd3bd",
   "metadata": {},
   "source": [
    "We can transpose using the prime symbol `'`."
   ]
  },
  {
   "cell_type": "code",
   "execution_count": null,
   "id": "89795c21",
   "metadata": {},
   "outputs": [],
   "source": [
    "M'"
   ]
  },
  {
   "cell_type": "markdown",
   "id": "b4c1b277",
   "metadata": {},
   "source": [
    "We can also multiply matrices together provided that the dimensions match."
   ]
  },
  {
   "cell_type": "code",
   "execution_count": null,
   "id": "16d1e618",
   "metadata": {},
   "outputs": [],
   "source": [
    "M*M"
   ]
  },
  {
   "cell_type": "code",
   "execution_count": null,
   "id": "0b6d4ea1",
   "metadata": {},
   "outputs": [],
   "source": [
    "M*a"
   ]
  },
  {
   "cell_type": "markdown",
   "id": "0cd7ecbc",
   "metadata": {},
   "source": [
    "The built-in function `size`, returns the size of an array."
   ]
  },
  {
   "cell_type": "code",
   "execution_count": null,
   "id": "b10363b7",
   "metadata": {},
   "outputs": [],
   "source": [
    "size(M)"
   ]
  },
  {
   "cell_type": "code",
   "execution_count": null,
   "id": "80efa171",
   "metadata": {},
   "outputs": [],
   "source": [
    "size(a)"
   ]
  },
  {
   "cell_type": "markdown",
   "id": "5d664578",
   "metadata": {},
   "source": [
    "## Writing the matrix elements explicitly.\n",
    "\n",
    "There are other way to define matrices that may be more convenient in some cases. We can simply write every element of a matrix line by line."
   ]
  },
  {
   "cell_type": "code",
   "execution_count": null,
   "id": "bd75cb67",
   "metadata": {},
   "outputs": [],
   "source": [
    "M2 = [1. 2. 3.\n",
    "4. 5. 6.\n",
    "7. 8. 9.]"
   ]
  },
  {
   "cell_type": "markdown",
   "id": "7338b87e",
   "metadata": {},
   "source": [
    "I should have mentioned already that I write `4.` as opposed to `4` because I want the computer to be aware that we are working with Real numbers and not merely integers. Writing `4.` is equivalent to `4.0`. The computer understands this is a real number and stores it in floating point. If I write `4`, the computer would interpret it as an Integer number. For this class, we will always use floating point numbers."
   ]
  },
  {
   "cell_type": "markdown",
   "id": "fe19c35b",
   "metadata": {},
   "source": [
    "You may be tempted to define a vector with a row of numbers. Let us try."
   ]
  },
  {
   "cell_type": "code",
   "execution_count": null,
   "id": "98e65e1a",
   "metadata": {},
   "outputs": [],
   "source": [
    "b = [1. 2. 3.]"
   ]
  },
  {
   "cell_type": "markdown",
   "id": "ed20e2d9",
   "metadata": {},
   "source": [
    "Note that we defined a row vector, not a column vector. If we try to multiply M2 with b, the dimensions do not match and we get an error."
   ]
  },
  {
   "cell_type": "code",
   "execution_count": null,
   "id": "306ca781",
   "metadata": {},
   "outputs": [],
   "source": [
    "M2*b"
   ]
  },
  {
   "cell_type": "markdown",
   "id": "459c1be9",
   "metadata": {},
   "source": [
    "We can produce a column vector with the transpose `b'`. That's why the following line works."
   ]
  },
  {
   "cell_type": "code",
   "execution_count": null,
   "id": "ae342f03",
   "metadata": {},
   "outputs": [],
   "source": [
    "M2 * b'"
   ]
  },
  {
   "cell_type": "markdown",
   "id": "93974813",
   "metadata": {},
   "source": [
    "## Array by comprehension\n",
    "\n",
    "While the explicit definition of the matrix might look simpler, it is actually very cumbersome to define a large matrix this way. Julia has a very elegant way to define matrices *by comprehension*. For example, the Hilbert matrix is a classical test case for methods in numerical analysis. It is the following.\n",
    "$$ H = \\begin{pmatrix} 1 & 1/2 & 1/3 & 1/4 & \\dots \\\\\n",
    "1/2 & 1/3 & 1/4 & 1/5 & \\dots \\\\\n",
    "1/3 & 1/4 & 1/5 & 1/6 & \\dots \\\\\n",
    "\\dots\n",
    "\\end{pmatrix} = \\{ 1/(i+j-1)\\}_{i=1\\dots n, j=1 \\dots n}$$\n",
    "\n",
    "We will do is define the matrix with a notation similar to the right hand side above. The line below defines a $20\\times 20$ Hilbert matrix."
   ]
  },
  {
   "cell_type": "code",
   "execution_count": null,
   "id": "0dc4652d",
   "metadata": {},
   "outputs": [],
   "source": [
    "H = [ 1/(i+j-1) for i in 1:20, j=1:20]"
   ]
  },
  {
   "cell_type": "markdown",
   "id": "c70f8fd8",
   "metadata": {},
   "source": [
    "## Writing some code.\n",
    "\n",
    "Since we were discussing the $LU$ decomposition in class, let us write the corresponding code. The following function is supposed to return the factors $L$ and $U$, given any square matrix $A$."
   ]
  },
  {
   "cell_type": "code",
   "execution_count": null,
   "id": "e605d4bf",
   "metadata": {},
   "outputs": [],
   "source": [
    "function LU(A)\n",
    "    n, m = size(A) # A is supposed to be a square matrix, so hopefully n and m will be equal.\n",
    "    \n",
    "    # We initalize L with zeros and U to be the same as A.\n",
    "    L = zeros(n,m)\n",
    "    U = copy(A)\n",
    "    \n",
    "    for k in 1:n\n",
    "        L[k,k] = 1\n",
    "        for i in (k+1):n\n",
    "            L[i,k] = U[i,k]/U[k,k]\n",
    "            println(i, \", \", k, \", \", U[i,k],\", \",L[i,k])\n",
    "            U[i,:] = U[i,:] - L[i,k]*U[k,:]\n",
    "        end\n",
    "    end\n",
    "    return L, U\n",
    "end"
   ]
  },
  {
   "cell_type": "markdown",
   "id": "d4e4ab20",
   "metadata": {},
   "source": [
    "Let us try a tiny test."
   ]
  },
  {
   "cell_type": "code",
   "execution_count": null,
   "id": "a118797e",
   "metadata": {},
   "outputs": [],
   "source": [
    "A = [1. 2.\n",
    "3. 4.]"
   ]
  },
  {
   "cell_type": "code",
   "execution_count": null,
   "id": "56073542",
   "metadata": {},
   "outputs": [],
   "source": [
    "L,U = LU(A)"
   ]
  },
  {
   "cell_type": "code",
   "execution_count": null,
   "id": "349685d8",
   "metadata": {},
   "outputs": [],
   "source": [
    "L*U"
   ]
  },
  {
   "cell_type": "code",
   "execution_count": null,
   "id": "56dd1724",
   "metadata": {},
   "outputs": [],
   "source": []
  }
 ],
 "metadata": {
  "kernelspec": {
   "display_name": "Julia 1.4.1",
   "language": "julia",
   "name": "julia-1.4"
  },
  "language_info": {
   "file_extension": ".jl",
   "mimetype": "application/julia",
   "name": "julia",
   "version": "1.4.1"
  }
 },
 "nbformat": 4,
 "nbformat_minor": 5
}
